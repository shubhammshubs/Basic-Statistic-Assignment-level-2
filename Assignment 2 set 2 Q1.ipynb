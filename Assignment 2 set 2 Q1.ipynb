{
 "cells": [
  {
   "cell_type": "markdown",
   "id": "f9e139bf",
   "metadata": {},
   "source": [
    "<!--  The time required for servicing transmissions is normally distributed with  = 45 minutes\n",
    "and  = 8 minutes. The service manager plans to have work begin on the transmission of a \n",
    "customer’s car 10 minutes after the car is dropped off and the customer is told that the car \n",
    " will be ready within 1 hour from drop-off. What is the probability that the service manager \n",
    " cannot meet his commitment?  -->"
   ]
  },
  {
   "cell_type": "markdown",
   "id": "82cc4f9e",
   "metadata": {},
   "source": [
    "### 1.\tThe time required for servicing transmissions is normally distributed with  = 45 minutes and  = 8 minutes. The service manager plans to have work begin on the transmission of a customer’s car 10 minutes after the car is dropped off and the customer is told that the car will be ready within 1 hour from drop-off. What is the probability that the service manager cannot meet his commitment? "
   ]
  },
  {
   "cell_type": "markdown",
   "id": "a02cd3f9",
   "metadata": {},
   "source": [
    "# ------------------------------------------------------------------------------- "
   ]
  },
  {
   "cell_type": "markdown",
   "id": "5ac1fb88",
   "metadata": {},
   "source": [
    "##### Let the time taken for servicing requirenment = T. "
   ]
  },
  {
   "cell_type": "markdown",
   "id": "1ec20aa2",
   "metadata": {},
   "source": [
    "##### T is normaly distributed with  μ =45 minutes and  σ = 8 minutes."
   ]
  },
  {
   "cell_type": "markdown",
   "id": "40076d6c",
   "metadata": {},
   "source": [
    "##### Time delay= 10 mins "
   ]
  },
  {
   "cell_type": "markdown",
   "id": "995da46b",
   "metadata": {},
   "source": [
    "##### TIme avaliable to finish work is = 60-10 = 50 mins. "
   ]
  },
  {
   "cell_type": "markdown",
   "id": "ca25d88d",
   "metadata": {},
   "source": [
    "##### so from z transformation z = (X-μ) / σ"
   ]
  },
  {
   "cell_type": "code",
   "execution_count": 2,
   "id": "6f354909",
   "metadata": {},
   "outputs": [],
   "source": [
    "from scipy import stats\n",
    "from scipy.stats import norm"
   ]
  },
  {
   "cell_type": "code",
   "execution_count": 4,
   "id": "aa651aea",
   "metadata": {},
   "outputs": [
    {
     "data": {
      "text/plain": [
       "0.625"
      ]
     },
     "execution_count": 4,
     "metadata": {},
     "output_type": "execute_result"
    }
   ],
   "source": [
    "# Find z score at X = 50 \n",
    "z = (50 -45)/ 8\n",
    "z"
   ]
  },
  {
   "cell_type": "code",
   "execution_count": 8,
   "id": "7b156333",
   "metadata": {},
   "outputs": [
    {
     "name": "stdout",
     "output_type": "stream",
     "text": [
      "the probability that the service manager cannot meet his commitment is  0.26598552904870054\n"
     ]
    }
   ],
   "source": [
    "# Finding the probability that the service manager cannot meet his commitment?\n",
    "p = 1 - stats.norm.cdf(abs(0.625))\n",
    "print(\"the probability that the service manager cannot meet his commitment is \",p)"
   ]
  },
  {
   "cell_type": "code",
   "execution_count": null,
   "id": "360e056c",
   "metadata": {},
   "outputs": [],
   "source": []
  }
 ],
 "metadata": {
  "kernelspec": {
   "display_name": "Python 3 (ipykernel)",
   "language": "python",
   "name": "python3"
  },
  "language_info": {
   "codemirror_mode": {
    "name": "ipython",
    "version": 3
   },
   "file_extension": ".py",
   "mimetype": "text/x-python",
   "name": "python",
   "nbconvert_exporter": "python",
   "pygments_lexer": "ipython3",
   "version": "3.9.12"
  }
 },
 "nbformat": 4,
 "nbformat_minor": 5
}
