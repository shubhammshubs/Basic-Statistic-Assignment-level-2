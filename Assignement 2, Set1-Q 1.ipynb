{
 "cells": [
  {
   "cell_type": "markdown",
   "id": "55245036",
   "metadata": {},
   "source": [
    "#  \tLook at the data given below. Plot the data, find the     outliers and find out  μ,σ,σ^2\n",
    "\n",
    "     Name of company\tMeasure X\n",
    "     Allied Signal\t    24.23%\n",
    "     Bankers Trust\t    25.53%\n",
    "     General Mills\t    25.41%\n",
    "     ITT Industries\t   24.14%\n",
    "     J.P.Morgan & Co.\t 29.62%\n",
    "     Lehman Brothers\t  28.25%\n",
    "     Marriott\t         25.81%\n",
    "     MCI\t              24.39%\n",
    "     Merrill Lynch\t    40.26%\n",
    "     Microsoft\t        32.95%\n",
    "     Morgan Stanley\t   91.36%\n",
    "     Sun Microsystems\t 25.99%\n",
    "     Travelers\t        39.42%\n",
    "     US Airways\t       26.71%\n",
    "     Warner-Lambert\t   35.00%\n"
   ]
  },
  {
   "cell_type": "code",
   "execution_count": 6,
   "id": "50e1c37a",
   "metadata": {},
   "outputs": [],
   "source": [
    "import pandas as pd\n",
    "import numpy as np\n",
    "import matplotlib.pyplot as plt\n",
    "import seaborn as sns\n",
    "import warnings\n",
    "warnings.filterwarnings('ignore')"
   ]
  },
  {
   "cell_type": "code",
   "execution_count": 3,
   "id": "5a40168b",
   "metadata": {},
   "outputs": [],
   "source": [
    "company_measure = pd.Series([24.23,25.53,25.41,24.14,29.62,28.25,25.81,24.39,40.26,32.95,91.36,25.99,39.42,26.71,35.00])"
   ]
  },
  {
   "cell_type": "code",
   "execution_count": 4,
   "id": "bd7cc61a",
   "metadata": {},
   "outputs": [
    {
     "data": {
      "text/plain": [
       "0     24.23\n",
       "1     25.53\n",
       "2     25.41\n",
       "3     24.14\n",
       "4     29.62\n",
       "5     28.25\n",
       "6     25.81\n",
       "7     24.39\n",
       "8     40.26\n",
       "9     32.95\n",
       "10    91.36\n",
       "11    25.99\n",
       "12    39.42\n",
       "13    26.71\n",
       "14    35.00\n",
       "dtype: float64"
      ]
     },
     "execution_count": 4,
     "metadata": {},
     "output_type": "execute_result"
    }
   ],
   "source": [
    "company_measure"
   ]
  },
  {
   "cell_type": "code",
   "execution_count": 15,
   "id": "b10a13b3",
   "metadata": {},
   "outputs": [
    {
     "data": {
      "image/png": "[encoded data removed]",
      "text/plain": [
       "<Figure size 432x288 with 1 Axes>"
      ]
     },
     "metadata": {
      "needs_background": "light"
     },
     "output_type": "display_data"
    }
   ],
   "source": [
    "# boxPlot for outliars\n",
    "sns.boxplot(company_measure)\n",
    "plt.show()"
   ]
  },
  {
   "cell_type": "code",
   "execution_count": 17,
   "id": "02f9106b",
   "metadata": {},
   "outputs": [
    {
     "data": {
      "text/plain": [
       "33.27133333333333"
      ]
     },
     "execution_count": 17,
     "metadata": {},
     "output_type": "execute_result"
    }
   ],
   "source": [
    "# mean\n",
    "company_measure.mean()"
   ]
  },
  {
   "cell_type": "code",
   "execution_count": 18,
   "id": "2977e3a2",
   "metadata": {},
   "outputs": [
    {
     "data": {
      "text/plain": [
       "287.1466123809524"
      ]
     },
     "execution_count": 18,
     "metadata": {},
     "output_type": "execute_result"
    }
   ],
   "source": [
    "# varience\n",
    "company_measure.var()"
   ]
  },
  {
   "cell_type": "code",
   "execution_count": 19,
   "id": "c280ec98",
   "metadata": {},
   "outputs": [
    {
     "data": {
      "text/plain": [
       "16.945400921222028"
      ]
     },
     "execution_count": 19,
     "metadata": {},
     "output_type": "execute_result"
    }
   ],
   "source": [
    "# standard Deviation \n",
    "company_measure.std()"
   ]
  },
  {
   "cell_type": "code",
   "execution_count": null,
   "id": "ab9c182d",
   "metadata": {},
   "outputs": [],
   "source": []
  }
 ],
 "metadata": {
  "kernelspec": {
   "display_name": "Python 3 (ipykernel)",
   "language": "python",
   "name": "python3"
  },
  "language_info": {
   "codemirror_mode": {
    "name": "ipython",
    "version": 3
   },
   "file_extension": ".py",
   "mimetype": "text/x-python",
   "name": "python",
   "nbconvert_exporter": "python",
   "pygments_lexer": "ipython3",
   "version": "3.9.12"
  }
 },
 "nbformat": 4,
 "nbformat_minor": 5
}
