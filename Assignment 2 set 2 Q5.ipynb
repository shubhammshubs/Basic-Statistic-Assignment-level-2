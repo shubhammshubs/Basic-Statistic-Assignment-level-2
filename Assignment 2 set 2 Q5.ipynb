{
 "cells": [
  {
   "cell_type": "markdown",
   "id": "7f39ff67",
   "metadata": {},
   "source": [
    "### 5. Consider a company that has two different divisions. The annual profits from the two divisions are independent and have distributions Profit1 ~ N(5, 32) and Profit2 ~ N(7, 42) respectively. Both the profits are in  $ Million. Answer the following questions about the \n",
    "total profit of the company in Rupees. Assume that $1 = Rs. 45\n",
    "    A. Specify a Rupee ranges (centered on the mean) such that it contains 95% probability \n",
    "        fo.r the annual profit of the company.\t\n",
    "    B. Specify the 5th percentile of profit (in Rupees) for the company\n",
    "    C. Which of the two divisions has a larger probability of making a loss in a given year?\n"
   ]
  },
  {
   "cell_type": "code",
   "execution_count": 1,
   "id": "cd6a9386",
   "metadata": {},
   "outputs": [],
   "source": [
    "import numpy as np\n",
    "from scipy import stats\n",
    "from scipy.stats import norm"
   ]
  },
  {
   "cell_type": "code",
   "execution_count": 9,
   "id": "cebe0db7",
   "metadata": {},
   "outputs": [
    {
     "name": "stdout",
     "output_type": "stream",
     "text": [
      "mean of profit is 540 Million\n"
     ]
    }
   ],
   "source": [
    "# prrofit mean of two different division is = mean1 + mean2 == 5 +7 \n",
    "mean = 5 + 7 \n",
    "print (\"mean of profit is\", mean*45 , \"Million\")"
   ]
  },
  {
   "cell_type": "code",
   "execution_count": 10,
   "id": "54c4bb4a",
   "metadata": {},
   "outputs": [
    {
     "name": "stdout",
     "output_type": "stream",
     "text": [
      "Standard Deviation of Profit is  225.0 Million\n"
     ]
    }
   ],
   "source": [
    "# Varience of profit of two different Division is = SD = SD(profit1 + profit2)\n",
    "SD = np.sqrt((9) + (16))\n",
    "print(\"Standard Deviation of Profit is \", SD*45,\"Million\")"
   ]
  },
  {
   "cell_type": "code",
   "execution_count": 12,
   "id": "6086a228",
   "metadata": {},
   "outputs": [
    {
     "name": "stdout",
     "output_type": "stream",
     "text": [
      "Rupee Range is  (496.88079234011883, 583.1192076598812)\n"
     ]
    }
   ],
   "source": [
    "# A.Specify a Rupee range (centered on the mean) such that it contains 95% probability for the annual profit of the company.\n",
    "\n",
    "print(\"Rupee Range is \",stats.norm.interval(0.95,540,22))"
   ]
  },
  {
   "cell_type": "code",
   "execution_count": 14,
   "id": "8baae375",
   "metadata": {},
   "outputs": [
    {
     "name": "stdout",
     "output_type": "stream",
     "text": [
      " 5th percentile of profit is 170.0\n"
     ]
    }
   ],
   "source": [
    "# B.Specify the 5th percentile of profit (in Rupees) for the company\n",
    "x = 540+(-1.645)*(225)\n",
    "print(\" 5th percentile of profit is\",np.round(x,))"
   ]
  },
  {
   "cell_type": "code",
   "execution_count": 23,
   "id": "f8d8d0d3",
   "metadata": {},
   "outputs": [
    {
     "name": "stdout",
     "output_type": "stream",
     "text": [
      "Division 1 making a loss is 0.0477903522728147\n"
     ]
    }
   ],
   "source": [
    "# C.Which of the two divisions has a larger probability of making a loss in a given year?\n",
    "# Probability of Division 1 making a loss P(X<0)\n",
    "a = stats.norm.cdf(0,5,3)\n",
    "print(\"Division 1 making a loss is\",a)\n"
   ]
  },
  {
   "cell_type": "code",
   "execution_count": 24,
   "id": "8c121a65",
   "metadata": {},
   "outputs": [
    {
     "name": "stdout",
     "output_type": "stream",
     "text": [
      "Division 2 making a loss is 0.040059156863817086\n"
     ]
    }
   ],
   "source": [
    "# Probability of Division 2 making a loss P(X<0)\n",
    "b = stats.norm.cdf(0,7,4)\n",
    "print(\"Division 2 making a loss is\",b)"
   ]
  },
  {
   "cell_type": "code",
   "execution_count": 26,
   "id": "4384cfa1",
   "metadata": {},
   "outputs": [
    {
     "name": "stdout",
     "output_type": "stream",
     "text": [
      "division 1 has a larger probability of making a loss in a given year which is  0.0477903522728147\n"
     ]
    }
   ],
   "source": [
    "if a > b :\n",
    "    print(\"division 1 has a larger probability of making a loss in a given year which is \",a)\n",
    "else:\n",
    "    print(\"division 2 has a larger probability of making a loss in a given year which is \",b)"
   ]
  },
  {
   "cell_type": "code",
   "execution_count": null,
   "id": "47664a47",
   "metadata": {},
   "outputs": [],
   "source": []
  }
 ],
 "metadata": {
  "kernelspec": {
   "display_name": "Python 3 (ipykernel)",
   "language": "python",
   "name": "python3"
  },
  "language_info": {
   "codemirror_mode": {
    "name": "ipython",
    "version": 3
   },
   "file_extension": ".py",
   "mimetype": "text/x-python",
   "name": "python",
   "nbconvert_exporter": "python",
   "pygments_lexer": "ipython3",
   "version": "3.9.12"
  }
 },
 "nbformat": 4,
 "nbformat_minor": 5
}
